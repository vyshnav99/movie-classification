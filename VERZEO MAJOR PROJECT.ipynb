{
 "cells": [
  {
   "cell_type": "code",
   "execution_count": 1,
   "metadata": {},
   "outputs": [],
   "source": [
    "import numpy as np\n",
    "import cgi,os\n",
    "import cv2\n",
    "from sklearn.cluster import KMeans\n",
    "from collections import Counter\n",
    "import imutils\n",
    "from matplotlib import pyplot as plt\n",
    "import sys"
   ]
  },
  {
   "cell_type": "code",
   "execution_count": 2,
   "metadata": {},
   "outputs": [],
   "source": [
    "rgb_lower = [141,85,36]\n",
    "rgb_higher = [255,219,172]"
   ]
  },
  {
   "cell_type": "code",
   "execution_count": 3,
   "metadata": {},
   "outputs": [],
   "source": [
    "skin_shades = {\n",
    "    'dark' : [rgb_lower,[198,134,66]],\n",
    "    'mild' : [[198,134,66],[224,172,105]],\n",
    "    'fair':[[224,172,105],[241,194,125]],\n",
    "    'bright' : [[241,194,125],rgb_higher]\n",
    "}"
   ]
  },
  {
   "cell_type": "code",
   "execution_count": 4,
   "metadata": {},
   "outputs": [],
   "source": [
    "skintones = {}\n",
    "for shade in skin_shades:\n",
    "    skintones.update({\n",
    "        shade : [\n",
    "            (skin_shades[shade][0][0] * 256 * 256) + (skin_shades[shade][0][1] * 256) + skin_shades[shade][0][2],\n",
    "            (skin_shades[shade][1][0] * 256 * 256) + (skin_shades[shade][1][1] * 256) + skin_shades[shade][1][2]\n",
    "        ]\n",
    "    })"
   ]
  },
  {
   "cell_type": "code",
   "execution_count": 5,
   "metadata": {},
   "outputs": [],
   "source": [
    "#defining skin extracting function\n",
    "def Skin_extract(image):\n",
    "    img = image.copy()\n",
    "    black_img = np.zeros((img.shape[0],img.shape[1],img.shape[2]),dtype=np.uint8)\n",
    "    img = cv2.cvtColor(img, cv2.COLOR_BGR2HSV)\n",
    "\n",
    "    lower_threshold = np.array([0, 48, 80], dtype=np.uint8)\n",
    "    print(lower_threshold)\n",
    "    upper_threshold = np.array([20, 255, 255], dtype=np.uint8)\n",
    "    print(upper_threshold)\n",
    "\n",
    "    skinMask = cv2.inRange(img, lower_threshold, upper_threshold)\n",
    "    skin = cv2.bitwise_and(img, img, mask=skinMask)\n",
    "    return cv2.cvtColor(skin, cv2.COLOR_HSV2BGR)"
   ]
  },
  {
   "cell_type": "code",
   "execution_count": 6,
   "metadata": {},
   "outputs": [],
   "source": [
    "#defining remove black function\n",
    "def removeBlack(estimator_labels, estimator_cluster):\n",
    "    hasBlack = False\n",
    "    occurance_counter = Counter(estimator_labels)\n",
    "    def compare(x, y): return Counter(x) == Counter(y)\n",
    "    for x in occurance_counter.most_common(len(estimator_cluster)):\n",
    "        color = [int(i) for i in estimator_cluster[x[0]].tolist()]\n",
    "        if compare(color, [0, 0, 0]) == True:\n",
    "            del occurance_counter[x[0]]\n",
    "            hasBlack = True\n",
    "            estimator_cluster = np.delete(estimator_cluster, x[0], 0)\n",
    "            break\n",
    "    return (occurance_counter, estimator_cluster, hasBlack)"
   ]
  },
  {
   "cell_type": "code",
   "execution_count": 7,
   "metadata": {},
   "outputs": [],
   "source": [
    "# defining the fuction to get the color information from an image\n",
    "def getColorInfo(estimator_labels, estimator_cluster, hasThresholding=False):\n",
    "    occurance_counter = None\n",
    "    colorInformation = []\n",
    "    hasBlack = False\n",
    "    if hasThresholding == True:\n",
    "        (occurance, cluster, black) = removeBlack(\n",
    "            estimator_labels, estimator_cluster)\n",
    "        occurance_counter = occurance\n",
    "        estimator_cluster = cluster\n",
    "        hasBlack = black\n",
    "    else:\n",
    "        occurance_counter = Counter(estimator_labels)\n",
    "    totalOccurance = sum(occurance_counter.values())\n",
    "    for x in occurance_counter.most_common(len(estimator_cluster)):\n",
    "        index = (int(x[0]))\n",
    "        index = (index-1) if ((hasThresholding & hasBlack)\n",
    "                              & (int(index) != 0)) else index\n",
    "        color = estimator_cluster[index].tolist()\n",
    "        color_percentage = (x[1]/totalOccurance)\n",
    "        colorInfo = {\"cluster_index\": index, \"color\": color,\n",
    "                     \"color_percentage\": color_percentage}\n",
    "        colorInformation.append(colorInfo)\n",
    "    return colorInformation"
   ]
  },
  {
   "cell_type": "code",
   "execution_count": 8,
   "metadata": {},
   "outputs": [],
   "source": [
    "def extractDominantColor(image, number_of_colors=1, hasThresholding=False):\n",
    "    if hasThresholding == True:\n",
    "        number_of_colors += 1\n",
    "    img = image.copy()\n",
    "    img = cv2.cvtColor(img, cv2.COLOR_BGR2RGB)\n",
    "    img = img.reshape((img.shape[0]*img.shape[1]), 3)\n",
    "    estimator = KMeans(n_clusters=number_of_colors, random_state=0)\n",
    "    estimator.fit(img)\n",
    "    colorInformation = getColorInfo(\n",
    "        estimator.labels_, estimator.cluster_centers_, hasThresholding)\n",
    "    return colorInformation"
   ]
  },
  {
   "cell_type": "code",
   "execution_count": 9,
   "metadata": {},
   "outputs": [],
   "source": [
    "def plotColorBar(colorInformation):\n",
    "    color_bar = np.zeros((100, 600, 3), dtype=\"uint8\")\n",
    "    top_x = 0\n",
    "    for x in colorInformation:\n",
    "        bottom_x = top_x + (x[\"color_percentage\"] * color_bar.shape[1])\n",
    "        color = tuple(map(int, (x['color'])))\n",
    "        cv2.rectangle(color_bar, (int(top_x), 0),\n",
    "                      (int(bottom_x), color_bar.shape[0]), color, -1)\n",
    "        top_x = bottom_x\n",
    "    return color_bar\n"
   ]
  },
  {
   "cell_type": "code",
   "execution_count": 10,
   "metadata": {},
   "outputs": [
    {
     "name": "stdout",
     "output_type": "stream",
     "text": [
      "Enter image url :https://pbs.twimg.com/profile_images/888341377729273856/OJGYfJTs_400x400.jpg\n"
     ]
    }
   ],
   "source": [
    "\n",
    "url = input(\"Enter image url :\")"
   ]
  },
  {
   "cell_type": "code",
   "execution_count": 11,
   "metadata": {},
   "outputs": [],
   "source": [
    "image = imutils.url_to_image(url)"
   ]
  },
  {
   "cell_type": "code",
   "execution_count": 12,
   "metadata": {},
   "outputs": [
    {
     "data": {
      "text/plain": [
       "Text(0.5, 1.0, 'Original Image')"
      ]
     },
     "execution_count": 12,
     "metadata": {},
     "output_type": "execute_result"
    },
    {
     "data": {
      "image/png": "[encoded data removed]",
      "text/plain": [
       "<Figure size 432x288 with 1 Axes>"
      ]
     },
     "metadata": {
      "needs_background": "light"
     },
     "output_type": "display_data"
    }
   ],
   "source": [
    "image = imutils.resize(image, width=200)\n",
    "plt.subplot(3, 1, 1)\n",
    "plt.imshow(cv2.cvtColor(image, cv2.COLOR_BGR2RGB))\n",
    "plt.title(\"Original Image\")"
   ]
  },
  {
   "cell_type": "code",
   "execution_count": 13,
   "metadata": {},
   "outputs": [
    {
     "name": "stdout",
     "output_type": "stream",
     "text": [
      "[ 0 48 80]\n",
      "[ 20 255 255]\n"
     ]
    },
    {
     "data": {
      "text/plain": [
       "Text(0.5, 1.0, 'Thresholded  Image')"
      ]
     },
     "execution_count": 13,
     "metadata": {},
     "output_type": "execute_result"
    },
    {
     "data": {
      "image/png": "[encoded data removed]",
      "text/plain": [
       "<Figure size 432x288 with 1 Axes>"
      ]
     },
     "metadata": {
      "needs_background": "light"
     },
     "output_type": "display_data"
    }
   ],
   "source": [
    "skin = Skin_extract(image)\n",
    "plt.subplot(3, 1, 2)\n",
    "plt.imshow(cv2.cvtColor(skin, cv2.COLOR_BGR2RGB))\n",
    "plt.title(\"Thresholded  Image\")"
   ]
  },
  {
   "cell_type": "code",
   "execution_count": 14,
   "metadata": {},
   "outputs": [],
   "source": [
    "\n",
    "unprocessed_dominant = extractDominantColor(skin, number_of_colors=1, hasThresholding=True)"
   ]
  },
  {
   "cell_type": "code",
   "execution_count": 15,
   "metadata": {},
   "outputs": [],
   "source": [
    "decimal_lower = (rgb_lower[0] * 256 * 256) + (rgb_lower[1] * 256) + rgb_lower[2]\n",
    "decimal_higher = (rgb_higher[0] * 256 * 256) + (rgb_higher[1] * 256) + rgb_higher[2]\n",
    "dominantColors = []"
   ]
  },
  {
   "cell_type": "code",
   "execution_count": 16,
   "metadata": {},
   "outputs": [],
   "source": [
    "for clr in unprocessed_dominant:\n",
    "    clr_decimal = int((clr['color'][0] * 256 * 256) + (clr['color'][1] * 256) + clr['color'][2])\n",
    "    if clr_decimal in range(decimal_lower,decimal_higher+1):\n",
    "        clr['decimal_color'] = clr_decimal\n",
    "        dominantColors.append(clr)"
   ]
  },
  {
   "cell_type": "code",
   "execution_count": 17,
   "metadata": {},
   "outputs": [],
   "source": [
    "\n",
    "skin_tones = []\n",
    "if len(dominantColors) == 0:\n",
    "    skin_tones.append('Unrecognized')\n",
    "else:\n",
    "    for color in dominantColors:\n",
    "        for shade in skintones:\n",
    "            if color['decimal_color'] in range(skintones[shade][0],skintones[shade][1]+1):\n",
    "                skin_tones.append(shade)\n"
   ]
  },
  {
   "cell_type": "code",
   "execution_count": 18,
   "metadata": {},
   "outputs": [
    {
     "name": "stdout",
     "output_type": "stream",
     "text": [
      "['mild']\n"
     ]
    }
   ],
   "source": [
    "print(skin_tones)"
   ]
  },
  {
   "cell_type": "code",
   "execution_count": 19,
   "metadata": {},
   "outputs": [
    {
     "name": "stdout",
     "output_type": "stream",
     "text": [
      "Color Bar\n"
     ]
    },
    {
     "data": {
      "text/plain": [
       "Text(0.5, 1.0, 'Color Bar')"
      ]
     },
     "execution_count": 19,
     "metadata": {},
     "output_type": "execute_result"
    },
    {
     "data": {
      "image/png": "[encoded data removed]",
      "text/plain": [
       "<Figure size 432x288 with 1 Axes>"
      ]
     },
     "metadata": {
      "needs_background": "light"
     },
     "output_type": "display_data"
    }
   ],
   "source": [
    "\n",
    "print(\"Color Bar\")\n",
    "colour_bar = plotColorBar(dominantColors)\n",
    "plt.subplot(3, 1, 3)\n",
    "plt.axis(\"off\")\n",
    "plt.imshow(colour_bar)\n",
    "plt.title(\"Color Bar\")"
   ]
  },
  {
   "cell_type": "code",
   "execution_count": 20,
   "metadata": {},
   "outputs": [
    {
     "data": {
      "text/plain": [
       "<Figure size 432x288 with 0 Axes>"
      ]
     },
     "metadata": {},
     "output_type": "display_data"
    }
   ],
   "source": [
    "\n",
    "plt.tight_layout()\n",
    "plt.show()"
   ]
  },
  {
   "cell_type": "code",
   "execution_count": null,
   "metadata": {},
   "outputs": [],
   "source": [
    "\n"
   ]
  },
  {
   "cell_type": "code",
   "execution_count": null,
   "metadata": {},
   "outputs": [],
   "source": []
  },
  {
   "cell_type": "code",
   "execution_count": null,
   "metadata": {},
   "outputs": [],
   "source": []
  }
 ],
 "metadata": {
  "kernelspec": {
   "display_name": "Python 3",
   "language": "python",
   "name": "python3"
  },
  "language_info": {
   "codemirror_mode": {
    "name": "ipython",
    "version": 3
   },
   "file_extension": ".py",
   "mimetype": "text/x-python",
   "name": "python",
   "nbconvert_exporter": "python",
   "pygments_lexer": "ipython3",
   "version": "3.8.5"
  }
 },
 "nbformat": 4,
 "nbformat_minor": 4
}
